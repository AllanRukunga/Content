{
  "nbformat": 4,
  "nbformat_minor": 0,
  "metadata": {
    "colab": {
      "provenance": []
    },
    "kernelspec": {
      "name": "python3",
      "display_name": "Python 3"
    },
    "language_info": {
      "name": "python"
    }
  },
  "cells": [
    {
      "cell_type": "code",
      "execution_count": null,
      "metadata": {
        "id": "_CVEVNGZOUe9"
      },
      "outputs": [],
      "source": [
        "# Project: Analyzing Children's Home Donations Data | Performing Sql queries in Python"
      ]
    },
    {
      "cell_type": "code",
      "source": [
        "# Importing libraries\n",
        "import pandas as pd\n",
        "import sqlite3\n",
        "import matplotlib.pyplot as plt\n",
        "import seaborn as sns"
      ],
      "metadata": {
        "id": "Vi2HmHHjP6sr"
      },
      "execution_count": null,
      "outputs": []
    },
    {
      "cell_type": "code",
      "source": [
        "# Let's generate sample data (* The datasets are fictitious and for analysis only)\n",
        "# Sample data for Donors Table\n",
        "donors_data = {\n",
        "    'DonorID': [1, 2, 3, 4, 5],\n",
        "    'Name': ['Abby Hemsway', 'Rhaenyra Thekaiju', 'Packe Miller', 'Danny Potassium', 'Beverly Chou'],\n",
        "    'Email': ['abby@example.com', 'rhaenyra@example.com', 'packe@example.com', 'danny@example.com', 'chou@example.com'],\n",
        "    'JoinDate': ['2024-01-11', '2024-02-27', '2024-03-30', '2024-04-17', '2024-05-01']\n",
        "}\n",
        "\n",
        "# Sample data for Products Table\n",
        "products_data = {\n",
        "    'ProductID': [101, 102, 103, 104, 105],\n",
        "    'ProductName': ['Food Supplies', 'Bedding', 'Personal Care Kit', 'Warm Clothes', 'Toys'],\n",
        "    'Category': ['Essentials', 'Essentials', 'Medical', 'Clothing', 'Recreation'],\n",
        "    'Price': [100, 250, 300, 100, 50]\n",
        "}\n",
        "\n",
        "# Sample data for Donations Table\n",
        "donations_data = {\n",
        "    'DonationID': [1001, 1002, 1003, 1004, 1005, 1006, 1007, 1008, 1009, 1010],\n",
        "    'DonorID': [1, 2, 3, 4, 5, 1, 2, 3, 4, 5],\n",
        "    'ProductID': [101, 102, 103, 104, 105, 101, 102, 103, 104, 105],\n",
        "    'Quantity': [2500, 1700, 2000, 2300, 2000, 2500, 1700, 2200, 1700, 900],\n",
        "    'DonationDate': ['2024-01-20', '2024-02-25', '2024-03-15', '2024-04-10', '2024-05-05',\n",
        "                     '2024-06-01', '2024-06-15', '2024-07-01', '2024-07-10', '2024-07-20']\n",
        "}"
      ],
      "metadata": {
        "id": "9hwlv7MWQFb-"
      },
      "execution_count": null,
      "outputs": []
    },
    {
      "cell_type": "code",
      "source": [
        "# Convert dictionaries to DataFrames\n",
        "donors_df = pd.DataFrame(donors_data)\n",
        "products_df = pd.DataFrame(products_data)\n",
        "donations_df = pd.DataFrame(donations_data)"
      ],
      "metadata": {
        "id": "bf18At2Y1DSx"
      },
      "execution_count": null,
      "outputs": []
    },
    {
      "cell_type": "code",
      "source": [
        "# View dataframes\n",
        "print ('Donors dataframe:')\n",
        "print (donors_df)\n",
        "print ('Products dataframe:')\n",
        "print (products_df)\n",
        "print ('Donations dataframe:')\n",
        "print (donations_df)"
      ],
      "metadata": {
        "colab": {
          "base_uri": "https://localhost:8080/"
        },
        "id": "zfJls9VP1VIn",
        "outputId": "ddbdba38-75ae-48d4-e0f4-959ee8fd44eb"
      },
      "execution_count": null,
      "outputs": [
        {
          "output_type": "stream",
          "name": "stdout",
          "text": [
            "Donors dataframe:\n",
            "   DonorID               Name                 Email    JoinDate\n",
            "0        1       Abby Hemsway      abby@example.com  2024-01-11\n",
            "1        2  Rhaenyra Thekaiju  rhaenyra@example.com  2024-02-27\n",
            "2        3       Packe Miller     packe@example.com  2024-03-30\n",
            "3        4    Danny Potassium     danny@example.com  2024-04-17\n",
            "4        5       Beverly Chou      chou@example.com  2024-05-01\n",
            "Products dataframe:\n",
            "   ProductID        ProductName    Category  Price\n",
            "0        101      Food Supplies  Essentials    100\n",
            "1        102            Bedding  Essentials    250\n",
            "2        103  Personal Care Kit     Medical    300\n",
            "3        104       Warm Clothes    Clothing    100\n",
            "4        105               Toys  Recreation     50\n",
            "Donations dataframe:\n",
            "   DonationID  DonorID  ProductID  Quantity DonationDate\n",
            "0        1001        1        101      2500   2024-01-20\n",
            "1        1002        2        102      1700   2024-02-25\n",
            "2        1003        3        103      2000   2024-03-15\n",
            "3        1004        4        104      2300   2024-04-10\n",
            "4        1005        5        105      2000   2024-05-05\n",
            "5        1006        1        101      2500   2024-06-01\n",
            "6        1007        2        102      1700   2024-06-15\n",
            "7        1008        3        103      2200   2024-07-01\n",
            "8        1009        4        104      1700   2024-07-10\n",
            "9        1010        5        105       900   2024-07-20\n"
          ]
        }
      ]
    },
    {
      "cell_type": "code",
      "source": [
        "# Create an in-memory SQLite database\n",
        "conn = sqlite3.connect(':memory:')"
      ],
      "metadata": {
        "id": "cjvDtSZr2W4a"
      },
      "execution_count": null,
      "outputs": []
    },
    {
      "cell_type": "code",
      "source": [
        "# Convert Dataframes to Tables in sql\n",
        "Donors_table = donors_df.to_sql('Donors', conn, if_exists='replace', index=False)\n",
        "Products_table = products_df.to_sql('Products', conn, if_exists='replace', index=False)\n",
        "Donations_table = donations_df.to_sql('Donations', conn, if_exists='replace', index=False)"
      ],
      "metadata": {
        "id": "zFLJvTys2hf8"
      },
      "execution_count": null,
      "outputs": []
    },
    {
      "cell_type": "code",
      "source": [
        "# Function to execute SQL queries and return the result as a DataFrame\n",
        "def execute_query(query):\n",
        "    return pd.read_sql_query(query, conn)"
      ],
      "metadata": {
        "id": "15hhdWj-2w4D"
      },
      "execution_count": null,
      "outputs": []
    },
    {
      "cell_type": "code",
      "source": [
        "# Sample query: To test the 'execute_query' function denoted as 'f', let's fetch all the data from the Donor table\n",
        "query = \"SELECT * FROM Donors\"\n",
        "f = execute_query (query)\n",
        "print (f)"
      ],
      "metadata": {
        "colab": {
          "base_uri": "https://localhost:8080/"
        },
        "id": "m-0rkji938JX",
        "outputId": "eca1cfa4-ea04-4d43-b3e1-60ea0284da9d"
      },
      "execution_count": null,
      "outputs": [
        {
          "output_type": "stream",
          "name": "stdout",
          "text": [
            "   DonorID               Name                 Email    JoinDate\n",
            "0        1       Abby Hemsway      abby@example.com  2024-01-11\n",
            "1        2  Rhaenyra Thekaiju  rhaenyra@example.com  2024-02-27\n",
            "2        3       Packe Miller     packe@example.com  2024-03-30\n",
            "3        4    Danny Potassium     danny@example.com  2024-04-17\n",
            "4        5       Beverly Chou      chou@example.com  2024-05-01\n"
          ]
        }
      ]
    },
    {
      "cell_type": "code",
      "source": [
        "# The following are new sql queries for analyzing the donations data\n",
        "# Query 1: Count donations by product category\n",
        "query1 = \"\"\"\n",
        "SELECT p.Category, COUNT(d.DonationID) AS num_donations\n",
        "FROM donations d\n",
        "JOIN products p ON d.ProductID = p.ProductID\n",
        "GROUP BY p.Category\n",
        "\"\"\"\n",
        "f1 = execute_query(query1)\n",
        "print(\"Query 1: Count donations by product category and bar chart\")\n",
        "print(f1)\n",
        "\n",
        "# Visualization: Bar chart\n",
        "plt.figure(figsize=(5, 3))\n",
        "plt.bar(f1['Category'], f1['num_donations'])\n",
        "plt.xlabel('Product Category')\n",
        "plt.ylabel('Number of Donations')\n",
        "plt.title('Number of Donations by Product Category')\n",
        "plt.xticks(rotation=45)\n",
        "plt.tight_layout()\n",
        "plt.show()"
      ],
      "metadata": {
        "colab": {
          "base_uri": "https://localhost:8080/",
          "height": 411
        },
        "id": "m6fu4Eqody3G",
        "outputId": "192c2841-05ca-4d45-c8f0-820dd848ac31"
      },
      "execution_count": null,
      "outputs": [
        {
          "output_type": "stream",
          "name": "stdout",
          "text": [
            "Query 1: Count donations by product category and bar chart\n",
            "     Category  num_donations\n",
            "0    Clothing              2\n",
            "1  Essentials              4\n",
            "2     Medical              2\n",
            "3  Recreation              2\n"
          ]
        },
        {
          "output_type": "display_data",
          "data": {
            "text/plain": [
              "<Figure size 500x300 with 1 Axes>"
            ],
            "image/png": "[encoded data removed]"
          },
          "metadata": {}
        }
      ]
    },
    {
      "cell_type": "code",
      "source": [
        "# Query 2: Total quantity donated by each donor\n",
        "query2 = \"\"\"\n",
        "SELECT d.Name, SUM(do.Quantity) AS total_quantity_donated\n",
        "FROM donors d\n",
        "JOIN donations do ON d.DonorID = do.DonorID\n",
        "GROUP BY d.Name\n",
        "\"\"\"\n",
        "f2 = execute_query(query2)\n",
        "print(\"\\nQuery 2: Total quantity donated by each donor\")\n",
        "print(f2)"
      ],
      "metadata": {
        "colab": {
          "base_uri": "https://localhost:8080/"
        },
        "id": "AoY8FAJ-exz8",
        "outputId": "1c2e3dda-180a-4f54-c11a-6fd0e55d055a"
      },
      "execution_count": null,
      "outputs": [
        {
          "output_type": "stream",
          "name": "stdout",
          "text": [
            "\n",
            "Query 2: Total quantity donated by each donor\n",
            "                Name  total_quantity_donated\n",
            "0       Abby Hemsway                    5000\n",
            "1       Beverly Chou                    2900\n",
            "2    Danny Potassium                    4000\n",
            "3       Packe Miller                    4200\n",
            "4  Rhaenyra Thekaiju                    3400\n"
          ]
        }
      ]
    },
    {
      "cell_type": "code",
      "source": [
        "# Query 3: List of donors who donated each product\n",
        "query3 = \"\"\"\n",
        "SELECT p.ProductName, GROUP_CONCAT(distinct (d.Name)) AS Donors\n",
        "FROM products p\n",
        "JOIN donations do ON p.ProductID = do.ProductID\n",
        "JOIN donors d ON do.DonorID = d.DonorID\n",
        "GROUP BY p.ProductName\n",
        "\"\"\"\n",
        "f3 = execute_query(query3)\n",
        "print(\"\\nQuery 3: List of donors who donated each product\")\n",
        "print(f3)"
      ],
      "metadata": {
        "colab": {
          "base_uri": "https://localhost:8080/"
        },
        "id": "VhN7w2nwhYTQ",
        "outputId": "e3d47a4e-e1a8-46eb-840a-d5dc05248a63"
      },
      "execution_count": null,
      "outputs": [
        {
          "output_type": "stream",
          "name": "stdout",
          "text": [
            "\n",
            "Query 3: List of donors who donated each product\n",
            "         ProductName             Donors\n",
            "0            Bedding  Rhaenyra Thekaiju\n",
            "1      Food Supplies       Abby Hemsway\n",
            "2  Personal Care Kit       Packe Miller\n",
            "3               Toys       Beverly Chou\n",
            "4       Warm Clothes    Danny Potassium\n"
          ]
        }
      ]
    },
    {
      "cell_type": "code",
      "source": [
        "# Query 4: Total quantity donated for each product and line chart\n",
        "query4 = \"\"\"\n",
        "SELECT p.ProductName, SUM(do.Quantity) AS total_quantity_donated\n",
        "FROM products p\n",
        "JOIN donations do ON p.ProductID = do.ProductID\n",
        "GROUP BY p.ProductName\n",
        "\"\"\"\n",
        "f4 = execute_query(query4)\n",
        "print(\"\\nQuery 4: Total quantity donated for each product\")\n",
        "print(f4)\n",
        "\n",
        "# Line chart of total quantity donated for each product\n",
        "plt.figure(figsize= (4, 4))\n",
        "sns.lineplot(x='ProductName', y='total_quantity_donated', data=f4)\n",
        "plt.xticks(rotation=45)\n",
        "plt.title('Total Quantity Donated for Each Product')\n",
        "plt.tight_layout()\n",
        "plt.show()"
      ],
      "metadata": {
        "colab": {
          "base_uri": "https://localhost:8080/",
          "height": 546
        },
        "id": "sxDnka9FiBID",
        "outputId": "8b00958e-f0b6-4d23-ece7-931e973fb02a"
      },
      "execution_count": null,
      "outputs": [
        {
          "output_type": "stream",
          "name": "stdout",
          "text": [
            "\n",
            "Query 4: Total quantity donated for each product\n",
            "         ProductName  total_quantity_donated\n",
            "0            Bedding                    3400\n",
            "1      Food Supplies                    5000\n",
            "2  Personal Care Kit                    4200\n",
            "3               Toys                    2900\n",
            "4       Warm Clothes                    4000\n"
          ]
        },
        {
          "output_type": "display_data",
          "data": {
            "text/plain": [
              "<Figure size 400x400 with 1 Axes>"
            ],
            "image/png": "[encoded data removed]"
          },
          "metadata": {}
        }
      ]
    },
    {
      "cell_type": "code",
      "source": [
        "# Query 5: List of products with their category and total quantity donated\n",
        "query5 = \"\"\"\n",
        "SELECT p.ProductName, p.Category, SUM(do.Quantity) AS Total_Quantity_Donated\n",
        "FROM products p\n",
        "JOIN donations do ON p.ProductID = do.ProductID\n",
        "GROUP BY p.ProductName, p.Category\n",
        "\"\"\"\n",
        "f5 = execute_query(query5)\n",
        "print(\"\\nQuery 5: List of products with their category and total quantity donated\")\n",
        "print(f5)"
      ],
      "metadata": {
        "colab": {
          "base_uri": "https://localhost:8080/"
        },
        "id": "53OOWqwRkDcI",
        "outputId": "9cabdde2-78f2-427c-933e-3d77021f3eb0"
      },
      "execution_count": null,
      "outputs": [
        {
          "output_type": "stream",
          "name": "stdout",
          "text": [
            "\n",
            "Query 5: List of products with their category and total quantity donated\n",
            "         ProductName    Category  Total_Quantity_Donated\n",
            "0            Bedding  Essentials                    3400\n",
            "1      Food Supplies  Essentials                    5000\n",
            "2  Personal Care Kit     Medical                    4200\n",
            "3               Toys  Recreation                    2900\n",
            "4       Warm Clothes    Clothing                    4000\n"
          ]
        }
      ]
    },
    {
      "cell_type": "code",
      "source": [
        "# Query 6: Total value donated (sum of Price * Quantity for each product)\n",
        "query6 = \"\"\"\n",
        "SELECT p.ProductName, SUM(p.Price * do.Quantity) AS Total_Value_Donated\n",
        "FROM products p\n",
        "JOIN donations do ON p.ProductID = do.ProductID\n",
        "GROUP BY p.ProductName\n",
        "\"\"\"\n",
        "f6 = execute_query(query6)\n",
        "print(\"\\nQuery 6: Total value donated (sum of Price * Quantity for each product)\")\n",
        "print(f6)"
      ],
      "metadata": {
        "colab": {
          "base_uri": "https://localhost:8080/"
        },
        "id": "XgEdZOWviIgJ",
        "outputId": "a5c426e2-525c-4412-f026-97f5e378dda3"
      },
      "execution_count": null,
      "outputs": [
        {
          "output_type": "stream",
          "name": "stdout",
          "text": [
            "\n",
            "Query 6: Total value donated (sum of Price * Quantity for each product)\n",
            "         ProductName  Total_Value_Donated\n",
            "0            Bedding               850000\n",
            "1      Food Supplies               500000\n",
            "2  Personal Care Kit              1260000\n",
            "3               Toys               145000\n",
            "4       Warm Clothes               400000\n"
          ]
        }
      ]
    },
    {
      "cell_type": "code",
      "source": [
        "# Query 7: List of donors who donated more than one time\n",
        "query7 = \"\"\"\n",
        "SELECT d.Name, COUNT(do.DonationID) AS num_donations\n",
        "FROM donors d\n",
        "JOIN donations do ON d.DonorID = do.DonorID\n",
        "GROUP BY d.Name\n",
        "HAVING num_donations > 1\n",
        "\"\"\"\n",
        "f7 = execute_query(query7)\n",
        "print(\"\\nQuery 7: List of donors who donated more than once\")\n",
        "print(f7)"
      ],
      "metadata": {
        "colab": {
          "base_uri": "https://localhost:8080/"
        },
        "id": "2W-2yyE4lGJ5",
        "outputId": "71ca3b0e-5262-4b2e-f11b-c27ee7f26e23"
      },
      "execution_count": null,
      "outputs": [
        {
          "output_type": "stream",
          "name": "stdout",
          "text": [
            "\n",
            "Query 7: List of donors who donated more than once\n",
            "                Name  num_donations\n",
            "0       Abby Hemsway              2\n",
            "1       Beverly Chou              2\n",
            "2    Danny Potassium              2\n",
            "3       Packe Miller              2\n",
            "4  Rhaenyra Thekaiju              2\n"
          ]
        }
      ]
    },
    {
      "cell_type": "code",
      "source": [
        "# Query 8: List of products in the Essentials category\n",
        "query8 = \"\"\"\n",
        "SELECT ProductName\n",
        "FROM products\n",
        "WHERE Category = 'Essentials'\n",
        "\"\"\"\n",
        "f8 = execute_query(query8)\n",
        "print(\"\\nQuery 8: List of products in the Essentials category\")\n",
        "print(f8)"
      ],
      "metadata": {
        "colab": {
          "base_uri": "https://localhost:8080/"
        },
        "id": "DfwSKb-AlVvw",
        "outputId": "279ddd92-f49b-4334-ac2c-e2b92fb5243e"
      },
      "execution_count": null,
      "outputs": [
        {
          "output_type": "stream",
          "name": "stdout",
          "text": [
            "\n",
            "Query 8: List of products in the Essentials category\n",
            "     ProductName\n",
            "0  Food Supplies\n",
            "1        Bedding\n"
          ]
        }
      ]
    },
    {
      "cell_type": "code",
      "source": [
        "# Query 9: Total number of donations made\n",
        "query9 = \"\"\"\n",
        "SELECT COUNT(DonationID) AS total_donations\n",
        "FROM donations\n",
        "\"\"\"\n",
        "f9 = execute_query(query9)\n",
        "print(\"\\nQuery 9: Total number of donations made\")\n",
        "print(f9)"
      ],
      "metadata": {
        "colab": {
          "base_uri": "https://localhost:8080/"
        },
        "id": "lv83slMZlp3c",
        "outputId": "1931551a-5205-4078-fea5-5cc66b06eac7"
      },
      "execution_count": null,
      "outputs": [
        {
          "output_type": "stream",
          "name": "stdout",
          "text": [
            "\n",
            "Query 9: Total number of donations made\n",
            "   total_donations\n",
            "0               10\n"
          ]
        }
      ]
    },
    {
      "cell_type": "code",
      "source": [
        "# Query 10: List of donors who joined before 2024-03-01\n",
        "query10 = \"\"\"\n",
        "SELECT Name, JoinDate\n",
        "FROM donors\n",
        "WHERE JoinDate < '2024-02-01'\n",
        "\"\"\"\n",
        "f10 = execute_query(query10)\n",
        "print(\"\\nQuery 10: List of donors who joined before 2024-02-01\")\n",
        "print(f10)"
      ],
      "metadata": {
        "colab": {
          "base_uri": "https://localhost:8080/"
        },
        "id": "ANFUySbvl0f6",
        "outputId": "746389bb-c681-4b0b-baa3-af900ddac839"
      },
      "execution_count": null,
      "outputs": [
        {
          "output_type": "stream",
          "name": "stdout",
          "text": [
            "\n",
            "Query 10: List of donors who joined before 2024-02-01\n",
            "           Name    JoinDate\n",
            "0  Abby Hemsway  2024-01-11\n"
          ]
        }
      ]
    },
    {
      "cell_type": "code",
      "source": [
        "# Query 11: List of products with a price greater than $30\n",
        "query11 = \"\"\"\n",
        "SELECT ProductName, Price\n",
        "FROM products\n",
        "WHERE Price > 30\n",
        "\"\"\"\n",
        "f11 = execute_query(query11)\n",
        "print(\"\\nQuery 11: List of products with a price greater than $30\")\n",
        "print(f11)"
      ],
      "metadata": {
        "colab": {
          "base_uri": "https://localhost:8080/"
        },
        "id": "P3rBcPFWmBzx",
        "outputId": "8728a9c4-dda3-47f2-d267-ec3f179adbfd"
      },
      "execution_count": null,
      "outputs": [
        {
          "output_type": "stream",
          "name": "stdout",
          "text": [
            "\n",
            "Query 11: List of products with a price greater than $30\n",
            "         ProductName  Price\n",
            "0      Food Supplies    100\n",
            "1            Bedding    250\n",
            "2  Personal Care Kit    300\n",
            "3       Warm Clothes    100\n",
            "4               Toys     50\n"
          ]
        }
      ]
    },
    {
      "cell_type": "code",
      "source": [
        "# Query 12: List of products not donated in April 2024\n",
        "query12 = \"\"\"\n",
        "SELECT DISTINCT p.ProductName\n",
        "FROM Products p\n",
        "WHERE p.ProductID NOT IN (\n",
        "    SELECT DISTINCT do.ProductID\n",
        "    FROM Donations do\n",
        "    WHERE do.DonationDate LIKE '2024-04%'\n",
        ");\n",
        "\"\"\"\n",
        "f12 = execute_query(query12)\n",
        "print(\"\\nQuery 12: List of products not donated in April 2024\")\n",
        "print(f12)"
      ],
      "metadata": {
        "colab": {
          "base_uri": "https://localhost:8080/"
        },
        "id": "ic4eALxjm-R1",
        "outputId": "e2b5f297-b06f-49db-b658-d53596363046"
      },
      "execution_count": null,
      "outputs": [
        {
          "output_type": "stream",
          "name": "stdout",
          "text": [
            "\n",
            "Query 12: List of products not donated in April 2024\n",
            "         ProductName\n",
            "0      Food Supplies\n",
            "1            Bedding\n",
            "2  Personal Care Kit\n",
            "3               Toys\n"
          ]
        }
      ]
    },
    {
      "cell_type": "code",
      "source": [
        "# Query 13: List of products with the highest to lowest prices\n",
        "query13 = \"\"\"\n",
        "SELECT GROUP_CONCAT(p.ProductName) AS Products,\n",
        "       p.Price AS Highest_to_lowest_price\n",
        "FROM products p\n",
        "GROUP BY p.Price\n",
        "ORDER BY p.Price DESC\n",
        "\"\"\"\n",
        "f13 = execute_query(query13)\n",
        "print(\"\\nQuery 13: List of products with the highest and lowest prices\")\n",
        "print(f13)"
      ],
      "metadata": {
        "colab": {
          "base_uri": "https://localhost:8080/"
        },
        "id": "jOmR8MuUJyCo",
        "outputId": "734181a4-94d1-4d81-fc13-e753db5bedda"
      },
      "execution_count": null,
      "outputs": [
        {
          "output_type": "stream",
          "name": "stdout",
          "text": [
            "\n",
            "Query 13: List of products with the highest and lowest prices\n",
            "                     Products  Highest_to_lowest_price\n",
            "0           Personal Care Kit                      300\n",
            "1                     Bedding                      250\n",
            "2  Food Supplies,Warm Clothes                      100\n",
            "3                        Toys                       50\n"
          ]
        }
      ]
    },
    {
      "cell_type": "code",
      "source": [
        "# Query 14: List of donors who have donated the same product more than once\n",
        "query14 = \"\"\"\n",
        "SELECT d.Name, p.ProductName, COUNT(do.DonationID) AS num_donations\n",
        "FROM donors d\n",
        "JOIN donations do ON d.DonorID = do.DonorID\n",
        "JOIN products p ON do.ProductID = p.ProductID\n",
        "GROUP BY d.Name, p.ProductName\n",
        "HAVING num_donations > 1\n",
        "\"\"\"\n",
        "f14 = execute_query(query14)\n",
        "print(\"\\nQuery 14: List of donors who have donated the same product more than once\")\n",
        "print(f14)"
      ],
      "metadata": {
        "colab": {
          "base_uri": "https://localhost:8080/"
        },
        "id": "ELLJrGEePBNF",
        "outputId": "63c09b72-7f2d-45ff-9a1d-3b7f7e020849"
      },
      "execution_count": null,
      "outputs": [
        {
          "output_type": "stream",
          "name": "stdout",
          "text": [
            "\n",
            "Query 14: List of donors who have donated the same product more than once\n",
            "                Name        ProductName  num_donations\n",
            "0       Abby Hemsway      Food Supplies              2\n",
            "1       Beverly Chou               Toys              2\n",
            "2    Danny Potassium       Warm Clothes              2\n",
            "3       Packe Miller  Personal Care Kit              2\n",
            "4  Rhaenyra Thekaiju            Bedding              2\n"
          ]
        }
      ]
    },
    {
      "cell_type": "code",
      "source": [
        "# Query 15: Total value donated by each donor, sorted by total value in descending order\n",
        "query15 = \"\"\"\n",
        "SELECT d.Name, SUM(p.Price * do.Quantity) AS total_value_donated\n",
        "FROM donors d\n",
        "JOIN donations do ON d.DonorID = do.DonorID\n",
        "JOIN products p ON do.ProductID = p.ProductID\n",
        "GROUP BY d.Name\n",
        "ORDER BY total_value_donated DESC\n",
        "\"\"\"\n",
        "f15 = execute_query(query15)\n",
        "print(\"\\nQuery 15: Total value donated by each donor, sorted by total value in descending order\")\n",
        "print(f15)"
      ],
      "metadata": {
        "colab": {
          "base_uri": "https://localhost:8080/"
        },
        "id": "UktT8-HhPWt7",
        "outputId": "dd25d434-44f1-4268-9c2c-adcb3f23301a"
      },
      "execution_count": null,
      "outputs": [
        {
          "output_type": "stream",
          "name": "stdout",
          "text": [
            "\n",
            "Query 15: Total value donated by each donor, sorted by total value in descending order\n",
            "                Name  total_value_donated\n",
            "0       Packe Miller              1260000\n",
            "1  Rhaenyra Thekaiju               850000\n",
            "2       Abby Hemsway               500000\n",
            "3    Danny Potassium               400000\n",
            "4       Beverly Chou               145000\n"
          ]
        }
      ]
    },
    {
      "cell_type": "code",
      "source": [
        "# Query 16: List of products with their total quantity donated, sorted by quantity in descending order\n",
        "query16 = \"\"\"\n",
        "SELECT p.ProductName as Products, SUM(do.Quantity) AS total_quantity_donated\n",
        "FROM products p\n",
        "JOIN donations do ON p.ProductID = do.ProductID\n",
        "GROUP BY p.ProductName\n",
        "ORDER BY total_quantity_donated DESC\n",
        "\"\"\"\n",
        "f16 = execute_query(query16)\n",
        "print(\"\\nQuery 16: List of products with their total quantity donated, sorted by quantity in descending order\")\n",
        "print(f16)"
      ],
      "metadata": {
        "colab": {
          "base_uri": "https://localhost:8080/"
        },
        "id": "dDfYaIBaYVPX",
        "outputId": "4903fcab-0013-49fc-b4a0-5136d6f2f85f"
      },
      "execution_count": null,
      "outputs": [
        {
          "output_type": "stream",
          "name": "stdout",
          "text": [
            "\n",
            "Query 16: List of products with their total quantity donated, sorted by quantity in descending order\n",
            "            Products  total_quantity_donated\n",
            "0      Food Supplies                    5000\n",
            "1  Personal Care Kit                    4200\n",
            "2       Warm Clothes                    4000\n",
            "3            Bedding                    3400\n",
            "4               Toys                    2900\n"
          ]
        }
      ]
    },
    {
      "cell_type": "code",
      "source": [
        "# Query 17: List of products, their category and price, sorted by category in ascending order\n",
        "query17 = \"\"\"\n",
        "SELECT ProductName, Category, Price\n",
        "FROM products\n",
        "ORDER BY Category ASC, Price\n",
        "\"\"\"\n",
        "f17 = execute_query(query17)\n",
        "print(\"\\nQuery 17: List of products and their category, sorted by category in ascending order and price in descending order\")\n",
        "print(f17)"
      ],
      "metadata": {
        "colab": {
          "base_uri": "https://localhost:8080/"
        },
        "id": "_Xko0ZjmY0oJ",
        "outputId": "2063e2a7-3331-4220-d8c9-a3847b222ed2"
      },
      "execution_count": null,
      "outputs": [
        {
          "output_type": "stream",
          "name": "stdout",
          "text": [
            "\n",
            "Query 17: List of products and their category, sorted by category in ascending order and price in descending order\n",
            "         ProductName    Category  Price\n",
            "0       Warm Clothes    Clothing    100\n",
            "1      Food Supplies  Essentials    100\n",
            "2            Bedding  Essentials    250\n",
            "3  Personal Care Kit     Medical    300\n",
            "4               Toys  Recreation     50\n"
          ]
        }
      ]
    },
    {
      "cell_type": "code",
      "source": [
        "# Query 18: List of products with their total quantity donated and average quantity donated, sorted by average quantity in descending order\n",
        "query18 = \"\"\"\n",
        "SELECT p.ProductName, SUM(do.Quantity) AS total_quantity_donated, AVG(do.Quantity) AS avg_quantity_donated\n",
        "FROM products p\n",
        "JOIN donations do ON p.ProductID = do.ProductID\n",
        "GROUP BY p.ProductName\n",
        "ORDER BY avg_quantity_donated DESC\n",
        "\"\"\"\n",
        "f18 = execute_query(query18)\n",
        "print(\"\\nQuery 18: List of products with their total quantity donated and average quantity donated, sorted by average quantity in descending order\")\n",
        "print(f18)\n",
        "\n",
        "# Sort DataFrame by total_quantity_donated for smoother line plot\n",
        "f18_sorted = f18.sort_values(by='total_quantity_donated')\n",
        "\n",
        "# Scatter plot of total vs. average quantity donated for each product with a line connecting points\n",
        "plt.figure(figsize=(5, 4))\n",
        "sns.scatterplot(x='total_quantity_donated', y='avg_quantity_donated', data=f18_sorted, hue='ProductName', s=100)\n",
        "plt.plot(f18_sorted['total_quantity_donated'], f18_sorted['avg_quantity_donated'], marker='o', linestyle='-', color='gray', linewidth=1)\n",
        "plt.title('Total vs. Average Quantity Donated for Each Product')\n",
        "plt.xlabel('Total Quantity Donated')\n",
        "plt.ylabel('Average Quantity Donated')\n",
        "plt.tight_layout()\n",
        "plt.show()"
      ],
      "metadata": {
        "colab": {
          "base_uri": "https://localhost:8080/",
          "height": 546
        },
        "id": "1ZKQNhLFZfls",
        "outputId": "c7991e09-7f5a-455c-8eb2-8314dc59b7b5"
      },
      "execution_count": null,
      "outputs": [
        {
          "output_type": "stream",
          "name": "stdout",
          "text": [
            "\n",
            "Query 18: List of products with their total quantity donated and average quantity donated, sorted by average quantity in descending order\n",
            "         ProductName  total_quantity_donated  avg_quantity_donated\n",
            "0      Food Supplies                    5000                2500.0\n",
            "1  Personal Care Kit                    4200                2100.0\n",
            "2       Warm Clothes                    4000                2000.0\n",
            "3            Bedding                    3400                1700.0\n",
            "4               Toys                    2900                1450.0\n"
          ]
        },
        {
          "output_type": "display_data",
          "data": {
            "text/plain": [
              "<Figure size 500x400 with 1 Axes>"
            ],
            "image/png": "[encoded data removed]"
          },
          "metadata": {}
        }
      ]
    },
    {
      "cell_type": "code",
      "source": [
        "# Close the SQLite connection\n",
        "conn.close()"
      ],
      "metadata": {
        "id": "N-z_9uSkZ1jE"
      },
      "execution_count": null,
      "outputs": []
    }
  ]
}