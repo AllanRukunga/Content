{
  "nbformat": 4,
  "nbformat_minor": 0,
  "metadata": {
    "colab": {
      "provenance": []
    },
    "kernelspec": {
      "name": "python3",
      "display_name": "Python 3"
    },
    "language_info": {
      "name": "python"
    }
  },
  "cells": [
    {
      "cell_type": "code",
      "execution_count": 5,
      "metadata": {
        "colab": {
          "base_uri": "https://localhost:8080/"
        },
        "id": "AALlpGO9LmJs",
        "outputId": "f2503ac3-beb2-4208-f573-577fbebbc27a"
      },
      "outputs": [
        {
          "output_type": "stream",
          "name": "stdout",
          "text": [
            "   Year  Oil Volume (bbl)  Gas Volume (Mcf)\n",
            "0  2017            122657            428912\n",
            "1  2018             41114            149716\n",
            "2  2019             23454             96651\n",
            "3  2020             20723             72344\n",
            "4  2021             16999             57641\n"
          ]
        }
      ],
      "source": [
        "# Import Historical/Forecasted Well Production Data file\n",
        "import pandas as pd\n",
        "\n",
        "# Raw URL of sample CSV file uploaded on GitHub\n",
        "url = \"https://raw.githubusercontent.com/AllanRukunga/Projects/refs/heads/main/Sample_Well_Production_Data.csv\"\n",
        "\n",
        "# Read the CSV file\n",
        "data = pd.read_csv(url)\n",
        "\n",
        "# Confirm that the correct file is uploaded\n",
        "print(data.head())  # Display the first five rows"
      ]
    },
    {
      "cell_type": "code",
      "source": [
        "# Defining Constants\n",
        "FLARING_EMISSION_FACTOR = 1.2  # MCF flared per 1,000 MCF produced - Source: EPA Greenhouse Gas Reporting Program (GHGRP)\n",
        "METHANE_EMISSION_FACTOR = 0.01  # MCF methane emitted per 1,000 MCF produced - Source: EPA Greenhouse Gas Reporting Program (GHGRP)\n",
        "GWP = 25  # Global Warming Potential of methane (25x CO2) - Source: Intergovernmental Panel on Climate Change (IPCC)\n",
        "\n",
        "# Adding new parameter column: GOR (Gas-to-Oil Ratio)\n",
        "data['GOR'] = data['Gas Volume (Mcf)'] / data['Oil Volume (bbl)']\n",
        "\n",
        "# Adding new parameter column: Flared Gas Quantity (MCF)\n",
        "data['Flared Gas (MCF)'] = data['Gas Volume (Mcf)'] * (FLARING_EMISSION_FACTOR / 1000)\n",
        "\n",
        "# Adding new parameter column: Methane Emissions (MCF)\n",
        "data['Methane Emissions (MCF)'] = data['Gas Volume (Mcf)'] * (METHANE_EMISSION_FACTOR / 1000)\n",
        "\n",
        "# Adding new parameter column: CO2e Emissions (Carbon Dioxide Equivalents)\n",
        "data['CO2e (Metric Tons)'] = data['Methane Emissions (MCF)'] * GWP"
      ],
      "metadata": {
        "id": "c2mzXt_iNmWj"
      },
      "execution_count": 6,
      "outputs": []
    },
    {
      "cell_type": "code",
      "source": [
        "# Well Emissions Output\n",
        "print (data.head()) # A sample of the first five rows"
      ],
      "metadata": {
        "colab": {
          "base_uri": "https://localhost:8080/"
        },
        "id": "M5hHxd3DNtGR",
        "outputId": "7715ef76-d77a-4d6f-cd6d-e649be2430f7"
      },
      "execution_count": 9,
      "outputs": [
        {
          "output_type": "stream",
          "name": "stdout",
          "text": [
            "   Year  Oil Volume (bbl)  Gas Volume (Mcf)       GOR  Flared Gas (MCF)  \\\n",
            "0  2017            122657            428912  3.496841          514.6944   \n",
            "1  2018             41114            149716  3.641485          179.6592   \n",
            "2  2019             23454             96651  4.120875          115.9812   \n",
            "3  2020             20723             72344  3.491000           86.8128   \n",
            "4  2021             16999             57641  3.390847           69.1692   \n",
            "\n",
            "   Methane Emissions (MCF)  CO2e (Metric Tons)  \n",
            "0                  4.28912           107.22800  \n",
            "1                  1.49716            37.42900  \n",
            "2                  0.96651            24.16275  \n",
            "3                  0.72344            18.08600  \n",
            "4                  0.57641            14.41025  \n"
          ]
        }
      ]
    },
    {
      "cell_type": "code",
      "source": [
        "# Export the updated dataset output as csv\n",
        "data.to_csv('Well_Emissions_Data.csv', index=False)\n",
        "\n",
        "from google.colab import files\n",
        "files.download('Well_Emissions_Data.csv')"
      ],
      "metadata": {
        "colab": {
          "base_uri": "https://localhost:8080/",
          "height": 17
        },
        "id": "x9eCJJF_OMEz",
        "outputId": "fdb74fa0-3821-4ca4-b7fb-48ed4f126e55"
      },
      "execution_count": 12,
      "outputs": [
        {
          "output_type": "display_data",
          "data": {
            "text/plain": [
              "<IPython.core.display.Javascript object>"
            ],
            "application/javascript": [
              "\n",
              "    async function download(id, filename, size) {\n",
              "      if (!google.colab.kernel.accessAllowed) {\n",
              "        return;\n",
              "      }\n",
              "      const div = document.createElement('div');\n",
              "      const label = document.createElement('label');\n",
              "      label.textContent = `Downloading \"${filename}\": `;\n",
              "      div.appendChild(label);\n",
              "      const progress = document.createElement('progress');\n",
              "      progress.max = size;\n",
              "      div.appendChild(progress);\n",
              "      document.body.appendChild(div);\n",
              "\n",
              "      const buffers = [];\n",
              "      let downloaded = 0;\n",
              "\n",
              "      const channel = await google.colab.kernel.comms.open(id);\n",
              "      // Send a message to notify the kernel that we're ready.\n",
              "      channel.send({})\n",
              "\n",
              "      for await (const message of channel.messages) {\n",
              "        // Send a message to notify the kernel that we're ready.\n",
              "        channel.send({})\n",
              "        if (message.buffers) {\n",
              "          for (const buffer of message.buffers) {\n",
              "            buffers.push(buffer);\n",
              "            downloaded += buffer.byteLength;\n",
              "            progress.value = downloaded;\n",
              "          }\n",
              "        }\n",
              "      }\n",
              "      const blob = new Blob(buffers, {type: 'application/binary'});\n",
              "      const a = document.createElement('a');\n",
              "      a.href = window.URL.createObjectURL(blob);\n",
              "      a.download = filename;\n",
              "      div.appendChild(a);\n",
              "      a.click();\n",
              "      div.remove();\n",
              "    }\n",
              "  "
            ]
          },
          "metadata": {}
        },
        {
          "output_type": "display_data",
          "data": {
            "text/plain": [
              "<IPython.core.display.Javascript object>"
            ],
            "application/javascript": [
              "download(\"download_51127654-17dc-448c-bd0f-851cd06822be\", \"Well_Emissions_Data.csv\", 907)"
            ]
          },
          "metadata": {}
        }
      ]
    }
  ]
}