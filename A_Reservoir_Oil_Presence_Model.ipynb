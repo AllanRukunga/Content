{
  "nbformat": 4,
  "nbformat_minor": 0,
  "metadata": {
    "colab": {
      "provenance": []
    },
    "kernelspec": {
      "name": "python3",
      "display_name": "Python 3"
    },
    "language_info": {
      "name": "python"
    }
  },
  "cells": [
    {
      "cell_type": "code",
      "execution_count": null,
      "metadata": {
        "id": "lsjFXDAUNHF2"
      },
      "outputs": [],
      "source": [
        "# Project: Model Evaluation (Oil Reservoir Productivity Estimates) | Data_size = 100 | Parameter in use = Density, Porosity, Permeability\n",
        "# Test Performance of the Model"
      ]
    },
    {
      "cell_type": "code",
      "source": [
        "# Import libraries\n",
        "import pandas as pd\n",
        "import numpy as np\n",
        "from sklearn.model_selection import train_test_split, GridSearchCV\n",
        "from sklearn.ensemble import GradientBoostingClassifier\n",
        "from sklearn.preprocessing import StandardScaler\n",
        "from sklearn.metrics import accuracy_score, precision_score, recall_score, f1_score, confusion_matrix"
      ],
      "metadata": {
        "id": "o0uh4txbNPIM"
      },
      "execution_count": null,
      "outputs": []
    },
    {
      "cell_type": "code",
      "source": [
        "# Create a sample dataset\n",
        "np.random.seed(55)  # For reproducibility"
      ],
      "metadata": {
        "id": "zfZ9PIpuNWeF"
      },
      "execution_count": null,
      "outputs": []
    },
    {
      "cell_type": "code",
      "source": [
        "# Generate data\n",
        "data_size = 100\n",
        "depth = np.random.uniform(1500, 3500, data_size)  # Depth in meters\n",
        "porosity = np.random.uniform(0.1, 0.3, data_size)  # Porosity as a fraction\n",
        "permeability = np.random.uniform(100, 1000, data_size)  # Permeability in millidarcies"
      ],
      "metadata": {
        "id": "SJfSjATpN4De"
      },
      "execution_count": null,
      "outputs": []
    },
    {
      "cell_type": "code",
      "source": [
        "# Assign oil presence (1 or 0)\n",
        "# The lower bound '0' is (inclusive), The upper bound '2' is (exclusive)\n",
        "oil_present = np.random.randint(0, 2, data_size)"
      ],
      "metadata": {
        "id": "n4jEhgChPwkD"
      },
      "execution_count": null,
      "outputs": []
    },
    {
      "cell_type": "code",
      "source": [
        "# Confirm array values\n",
        "print(\"Oil presence array:\", oil_present)"
      ],
      "metadata": {
        "colab": {
          "base_uri": "https://localhost:8080/"
        },
        "id": "9OpAp3M2Q0iE",
        "outputId": "cf5948db-d32c-4801-a537-da8d2f28670f"
      },
      "execution_count": null,
      "outputs": [
        {
          "output_type": "stream",
          "name": "stdout",
          "text": [
            "Oil presence array: [1 0 1 1 0 1 0 0 0 0 0 1 1 1 0 1 0 1 1 0 0 0 0 1 1 1 1 0 0 1 1 0 1 1 0 0 0\n",
            " 1 0 1 0 1 0 1 1 0 0 0 0 0 1 0 0 1 0 1 1 0 0 1 1 0 1 0 0 1 1 1 1 1 0 1 0 0\n",
            " 1 1 0 1 0 0 0 1 1 0 1 1 0 0 0 1 1 1 0 0 0 1 0 0 1 0]\n"
          ]
        }
      ]
    },
    {
      "cell_type": "code",
      "source": [
        "# Create DataFrame df\n",
        "df = pd.DataFrame({\n",
        "    'depth': depth,\n",
        "    'porosity': porosity,\n",
        "    'permeability': permeability,\n",
        "    'oil_present': oil_present\n",
        "})"
      ],
      "metadata": {
        "id": "44k4NwlCRTz9"
      },
      "execution_count": null,
      "outputs": []
    },
    {
      "cell_type": "code",
      "source": [
        "# View sample df (A representation of 5 reservoirs and their respective properties)\n",
        "print (df.head(5))"
      ],
      "metadata": {
        "colab": {
          "base_uri": "https://localhost:8080/"
        },
        "id": "ea030f6TRanJ",
        "outputId": "2f068f5e-1b84-4e1a-dd9a-6b233b890916"
      },
      "execution_count": null,
      "outputs": [
        {
          "output_type": "stream",
          "name": "stdout",
          "text": [
            "         depth  porosity  permeability  oil_present\n",
            "0  1686.216573  0.156381    707.823587            1\n",
            "1  3443.311840  0.215291    656.489516            0\n",
            "2  2467.719961  0.198200    983.998141            1\n",
            "3  1985.045403  0.251003    736.177105            1\n",
            "4  2562.247660  0.113637    245.558254            0\n"
          ]
        }
      ]
    },
    {
      "cell_type": "code",
      "source": [
        "print (df) # A representation of the entire dataset (100 reservoirs) and their respective properties)"
      ],
      "metadata": {
        "colab": {
          "base_uri": "https://localhost:8080/"
        },
        "id": "CMI0we5e6_Id",
        "outputId": "5f944f07-8fc4-4720-ce30-603dcaa9993a"
      },
      "execution_count": null,
      "outputs": [
        {
          "output_type": "stream",
          "name": "stdout",
          "text": [
            "          depth  porosity  permeability  oil_present\n",
            "0   1686.216573  0.156381    707.823587            1\n",
            "1   3443.311840  0.215291    656.489516            0\n",
            "2   2467.719961  0.198200    983.998141            1\n",
            "3   1985.045403  0.251003    736.177105            1\n",
            "4   2562.247660  0.113637    245.558254            0\n",
            "..          ...       ...           ...          ...\n",
            "95  3347.064636  0.224470    791.615717            1\n",
            "96  2429.702764  0.111521    858.721490            0\n",
            "97  3220.772442  0.164794    781.592537            0\n",
            "98  1864.272556  0.235567    738.625335            1\n",
            "99  2067.829905  0.125870    401.037129            0\n",
            "\n",
            "[100 rows x 4 columns]\n"
          ]
        }
      ]
    },
    {
      "cell_type": "code",
      "source": [
        "print (df.describe()) # Supplemental data"
      ],
      "metadata": {
        "colab": {
          "base_uri": "https://localhost:8080/"
        },
        "id": "mNl7OEfb635G",
        "outputId": "af0bc031-e60f-4a9a-9328-9d2f4bd4b4a5"
      },
      "execution_count": null,
      "outputs": [
        {
          "output_type": "stream",
          "name": "stdout",
          "text": [
            "             depth    porosity  permeability  oil_present\n",
            "count   100.000000  100.000000    100.000000   100.000000\n",
            "mean   2515.408319    0.190524    557.374277     0.480000\n",
            "std     579.666175    0.057332    248.355728     0.502117\n",
            "min    1518.277885    0.100539    116.945621     0.000000\n",
            "25%    2044.932758    0.141704    330.826353     0.000000\n",
            "50%    2527.868752    0.196832    566.745933     0.000000\n",
            "75%    3051.982483    0.237815    748.719291     1.000000\n",
            "max    3471.223164    0.296330    992.976077     1.000000\n"
          ]
        }
      ]
    },
    {
      "cell_type": "code",
      "source": [
        "# Adding synthetic features: Variables [Depth, Porosity, Permeability, Oil_present]\n",
        "df['depth_porosity'] = df['depth'] * df['porosity']\n",
        "df['porosity_permeability'] = df['porosity'] * df['permeability']"
      ],
      "metadata": {
        "id": "9C2vuT_MRs4r"
      },
      "execution_count": null,
      "outputs": []
    },
    {
      "cell_type": "code",
      "source": [
        "# Splitting the data into features (X) and target (y)\n",
        "X = df[['depth', 'porosity', 'permeability', 'depth_porosity', 'porosity_permeability']]\n",
        "y = df['oil_present']"
      ],
      "metadata": {
        "id": "tJ0jeldkS-kY"
      },
      "execution_count": null,
      "outputs": []
    },
    {
      "cell_type": "code",
      "source": [
        "# Splitting the data into training and testing sets\n",
        "X_train, X_test, y_train, y_test = train_test_split(X, y, test_size=0.2, random_state=55)"
      ],
      "metadata": {
        "id": "MHd1DJygTIA4"
      },
      "execution_count": null,
      "outputs": []
    },
    {
      "cell_type": "code",
      "source": [
        "# Standardizing the data\n",
        "scaler = StandardScaler()\n",
        "X_train_scaled = scaler.fit_transform(X_train)\n",
        "X_test_scaled = scaler.transform(X_test)"
      ],
      "metadata": {
        "id": "W557T4E5TMzm"
      },
      "execution_count": null,
      "outputs": []
    },
    {
      "cell_type": "code",
      "source": [
        "# Using GridSearchCV method to test our model, and find the best settings (hyperparameters) for it\n",
        "param_grid = {\n",
        "    'n_estimators': [50, 100, 200],\n",
        "    'learning_rate': [0.01, 0.1, 0.2],\n",
        "    'max_depth': [3, 4, 5]\n",
        "}\n",
        "grid_search = GridSearchCV(GradientBoostingClassifier(random_state=55), param_grid, cv=5, scoring='accuracy')\n",
        "grid_search.fit(X_train_scaled, y_train)"
      ],
      "metadata": {
        "colab": {
          "base_uri": "https://localhost:8080/",
          "height": 116
        },
        "id": "_tRwPRD1TS1C",
        "outputId": "f81e057a-ae8a-4e6c-f5a9-2646f73fcc9e"
      },
      "execution_count": null,
      "outputs": [
        {
          "output_type": "execute_result",
          "data": {
            "text/plain": [
              "GridSearchCV(cv=5, estimator=GradientBoostingClassifier(random_state=55),\n",
              "             param_grid={'learning_rate': [0.01, 0.1, 0.2],\n",
              "                         'max_depth': [3, 4, 5],\n",
              "                         'n_estimators': [50, 100, 200]},\n",
              "             scoring='accuracy')"
            ],
            "text/html": [
              "<style>#sk-container-id-1 {color: black;background-color: white;}#sk-container-id-1 pre{padding: 0;}#sk-container-id-1 div.sk-toggleable {background-color: white;}#sk-container-id-1 label.sk-toggleable__label {cursor: pointer;display: block;width: 100%;margin-bottom: 0;padding: 0.3em;box-sizing: border-box;text-align: center;}#sk-container-id-1 label.sk-toggleable__label-arrow:before {content: \"▸\";float: left;margin-right: 0.25em;color: #696969;}#sk-container-id-1 label.sk-toggleable__label-arrow:hover:before {color: black;}#sk-container-id-1 div.sk-estimator:hover label.sk-toggleable__label-arrow:before {color: black;}#sk-container-id-1 div.sk-toggleable__content {max-height: 0;max-width: 0;overflow: hidden;text-align: left;background-color: #f0f8ff;}#sk-container-id-1 div.sk-toggleable__content pre {margin: 0.2em;color: black;border-radius: 0.25em;background-color: #f0f8ff;}#sk-container-id-1 input.sk-toggleable__control:checked~div.sk-toggleable__content {max-height: 200px;max-width: 100%;overflow: auto;}#sk-container-id-1 input.sk-toggleable__control:checked~label.sk-toggleable__label-arrow:before {content: \"▾\";}#sk-container-id-1 div.sk-estimator input.sk-toggleable__control:checked~label.sk-toggleable__label {background-color: #d4ebff;}#sk-container-id-1 div.sk-label input.sk-toggleable__control:checked~label.sk-toggleable__label {background-color: #d4ebff;}#sk-container-id-1 input.sk-hidden--visually {border: 0;clip: rect(1px 1px 1px 1px);clip: rect(1px, 1px, 1px, 1px);height: 1px;margin: -1px;overflow: hidden;padding: 0;position: absolute;width: 1px;}#sk-container-id-1 div.sk-estimator {font-family: monospace;background-color: #f0f8ff;border: 1px dotted black;border-radius: 0.25em;box-sizing: border-box;margin-bottom: 0.5em;}#sk-container-id-1 div.sk-estimator:hover {background-color: #d4ebff;}#sk-container-id-1 div.sk-parallel-item::after {content: \"\";width: 100%;border-bottom: 1px solid gray;flex-grow: 1;}#sk-container-id-1 div.sk-label:hover label.sk-toggleable__label {background-color: #d4ebff;}#sk-container-id-1 div.sk-serial::before {content: \"\";position: absolute;border-left: 1px solid gray;box-sizing: border-box;top: 0;bottom: 0;left: 50%;z-index: 0;}#sk-container-id-1 div.sk-serial {display: flex;flex-direction: column;align-items: center;background-color: white;padding-right: 0.2em;padding-left: 0.2em;position: relative;}#sk-container-id-1 div.sk-item {position: relative;z-index: 1;}#sk-container-id-1 div.sk-parallel {display: flex;align-items: stretch;justify-content: center;background-color: white;position: relative;}#sk-container-id-1 div.sk-item::before, #sk-container-id-1 div.sk-parallel-item::before {content: \"\";position: absolute;border-left: 1px solid gray;box-sizing: border-box;top: 0;bottom: 0;left: 50%;z-index: -1;}#sk-container-id-1 div.sk-parallel-item {display: flex;flex-direction: column;z-index: 1;position: relative;background-color: white;}#sk-container-id-1 div.sk-parallel-item:first-child::after {align-self: flex-end;width: 50%;}#sk-container-id-1 div.sk-parallel-item:last-child::after {align-self: flex-start;width: 50%;}#sk-container-id-1 div.sk-parallel-item:only-child::after {width: 0;}#sk-container-id-1 div.sk-dashed-wrapped {border: 1px dashed gray;margin: 0 0.4em 0.5em 0.4em;box-sizing: border-box;padding-bottom: 0.4em;background-color: white;}#sk-container-id-1 div.sk-label label {font-family: monospace;font-weight: bold;display: inline-block;line-height: 1.2em;}#sk-container-id-1 div.sk-label-container {text-align: center;}#sk-container-id-1 div.sk-container {/* jupyter's `normalize.less` sets `[hidden] { display: none; }` but bootstrap.min.css set `[hidden] { display: none !important; }` so we also need the `!important` here to be able to override the default hidden behavior on the sphinx rendered scikit-learn.org. See: https://github.com/scikit-learn/scikit-learn/issues/21755 */display: inline-block !important;position: relative;}#sk-container-id-1 div.sk-text-repr-fallback {display: none;}</style><div id=\"sk-container-id-1\" class=\"sk-top-container\"><div class=\"sk-text-repr-fallback\"><pre>GridSearchCV(cv=5, estimator=GradientBoostingClassifier(random_state=55),\n",
              "             param_grid={&#x27;learning_rate&#x27;: [0.01, 0.1, 0.2],\n",
              "                         &#x27;max_depth&#x27;: [3, 4, 5],\n",
              "                         &#x27;n_estimators&#x27;: [50, 100, 200]},\n",
              "             scoring=&#x27;accuracy&#x27;)</pre><b>In a Jupyter environment, please rerun this cell to show the HTML representation or trust the notebook. <br />On GitHub, the HTML representation is unable to render, please try loading this page with nbviewer.org.</b></div><div class=\"sk-container\" hidden><div class=\"sk-item sk-dashed-wrapped\"><div class=\"sk-label-container\"><div class=\"sk-label sk-toggleable\"><input class=\"sk-toggleable__control sk-hidden--visually\" id=\"sk-estimator-id-1\" type=\"checkbox\" ><label for=\"sk-estimator-id-1\" class=\"sk-toggleable__label sk-toggleable__label-arrow\">GridSearchCV</label><div class=\"sk-toggleable__content\"><pre>GridSearchCV(cv=5, estimator=GradientBoostingClassifier(random_state=55),\n",
              "             param_grid={&#x27;learning_rate&#x27;: [0.01, 0.1, 0.2],\n",
              "                         &#x27;max_depth&#x27;: [3, 4, 5],\n",
              "                         &#x27;n_estimators&#x27;: [50, 100, 200]},\n",
              "             scoring=&#x27;accuracy&#x27;)</pre></div></div></div><div class=\"sk-parallel\"><div class=\"sk-parallel-item\"><div class=\"sk-item\"><div class=\"sk-label-container\"><div class=\"sk-label sk-toggleable\"><input class=\"sk-toggleable__control sk-hidden--visually\" id=\"sk-estimator-id-2\" type=\"checkbox\" ><label for=\"sk-estimator-id-2\" class=\"sk-toggleable__label sk-toggleable__label-arrow\">estimator: GradientBoostingClassifier</label><div class=\"sk-toggleable__content\"><pre>GradientBoostingClassifier(random_state=55)</pre></div></div></div><div class=\"sk-serial\"><div class=\"sk-item\"><div class=\"sk-estimator sk-toggleable\"><input class=\"sk-toggleable__control sk-hidden--visually\" id=\"sk-estimator-id-3\" type=\"checkbox\" ><label for=\"sk-estimator-id-3\" class=\"sk-toggleable__label sk-toggleable__label-arrow\">GradientBoostingClassifier</label><div class=\"sk-toggleable__content\"><pre>GradientBoostingClassifier(random_state=55)</pre></div></div></div></div></div></div></div></div></div></div>"
            ]
          },
          "metadata": {},
          "execution_count": 16
        }
      ]
    },
    {
      "cell_type": "code",
      "source": [
        "# Getting the best model from grid search\n",
        "best_model = grid_search.best_estimator_"
      ],
      "metadata": {
        "id": "jglAzKbwT18U"
      },
      "execution_count": null,
      "outputs": []
    },
    {
      "cell_type": "code",
      "source": [
        "# Predictions testing\n",
        "y_pred = best_model.predict(X_test_scaled)"
      ],
      "metadata": {
        "id": "Lpoz1t2yT_Ea"
      },
      "execution_count": null,
      "outputs": []
    },
    {
      "cell_type": "code",
      "source": [
        "# Calculate evaluation metrics\n",
        "accuracy = accuracy_score(y_test, y_pred)\n",
        "precision = precision_score(y_test, y_pred)\n",
        "recall = recall_score(y_test, y_pred)\n",
        "f1 = f1_score(y_test, y_pred)\n",
        "conf_matrix = confusion_matrix(y_test, y_pred)\n",
        "\n",
        "accuracy, precision, recall, f1, conf_matrix, grid_search.best_params_"
      ],
      "metadata": {
        "colab": {
          "base_uri": "https://localhost:8080/"
        },
        "id": "PuGYpLohW69Z",
        "outputId": "bf5590e2-d6e3-4eec-b08d-ae86f5ab6139"
      },
      "execution_count": null,
      "outputs": [
        {
          "output_type": "execute_result",
          "data": {
            "text/plain": [
              "(0.55,\n",
              " 0.42857142857142855,\n",
              " 0.8571428571428571,\n",
              " 0.5714285714285714,\n",
              " array([[5, 8],\n",
              "        [1, 6]]),\n",
              " {'learning_rate': 0.01, 'max_depth': 4, 'n_estimators': 100})"
            ]
          },
          "metadata": {},
          "execution_count": 57
        }
      ]
    },
    {
      "cell_type": "code",
      "source": [
        "# Testing the model with sample variables\n",
        "\n",
        "import pandas as pd\n",
        "import numpy as np\n",
        "\n",
        "# Example input values (Feel free to replace with actual reservoir values)\n",
        "density = 0.85\n",
        "depth = 3500\n",
        "porosity = 0.3\n",
        "permeability = 1000\n",
        "\n",
        "# Calculate synthetic data\n",
        "depth_porosity = depth * porosity\n",
        "porosity_permeability = porosity * permeability\n",
        "\n",
        "# Create a pandas DataFrame with the input features, including synthetic features\n",
        "input_features_df = pd.DataFrame({\n",
        "    'depth': [depth],\n",
        "    'porosity': [porosity],\n",
        "    'permeability': [permeability],\n",
        "    'depth_porosity': [depth_porosity],\n",
        "    'porosity_permeability': [porosity_permeability]\n",
        "})\n",
        "\n",
        "# Standardize the input features using the same scaler used in training\n",
        "input_features_scaled = scaler.transform(input_features_df)\n",
        "\n",
        "# Make prediction using the trained model\n",
        "prediction = best_model.predict(input_features_scaled)\n",
        "\n",
        "# Interpret prediction result\n",
        "if prediction[0] == 1:\n",
        "    print(\"Prediction: There is oil present.\")\n",
        "else:\n",
        "    print(\"Prediction: There is no oil present.\")\n"
      ],
      "metadata": {
        "colab": {
          "base_uri": "https://localhost:8080/"
        },
        "id": "r3jgywd5vB97",
        "outputId": "ccf8e0b7-b5a8-470d-c51e-796030c0e162"
      },
      "execution_count": null,
      "outputs": [
        {
          "output_type": "stream",
          "name": "stdout",
          "text": [
            "Prediction: There is oil present.\n"
          ]
        }
      ]
    },
    {
      "cell_type": "code",
      "source": [
        "# Testing the model with sample variables\n",
        "\n",
        "import pandas as pd\n",
        "import numpy as np\n",
        "\n",
        "# Adjusted variables: Depth, Permeability\n",
        "# Example input values (Feel free to replace with actual reservoir values)\n",
        "density = 0.85\n",
        "depth = 1500\n",
        "porosity = 0.3\n",
        "permeability = 700\n",
        "\n",
        "# Calculate synthetic data\n",
        "depth_porosity = depth * porosity\n",
        "porosity_permeability = porosity * permeability\n",
        "\n",
        "# Create a pandas DataFrame with the input features, including synthetic features\n",
        "input_features_df = pd.DataFrame({\n",
        "    'depth': [depth],\n",
        "    'porosity': [porosity],\n",
        "    'permeability': [permeability],\n",
        "    'depth_porosity': [depth_porosity],\n",
        "    'porosity_permeability': [porosity_permeability]\n",
        "})\n",
        "\n",
        "# Standardize the input features using the same scaler used in training\n",
        "input_features_scaled = scaler.transform(input_features_df)\n",
        "\n",
        "# Make prediction using the trained model\n",
        "prediction = best_model.predict(input_features_scaled)\n",
        "\n",
        "# Interpret prediction result\n",
        "if prediction[0] == 1:\n",
        "    print(\"Prediction: There is oil present.\")\n",
        "else:\n",
        "    print(\"Prediction: There is no oil present.\")\n"
      ],
      "metadata": {
        "colab": {
          "base_uri": "https://localhost:8080/"
        },
        "id": "J15uh2-qvxmS",
        "outputId": "dc0cd980-6345-49cb-97ba-3c51bb748571"
      },
      "execution_count": null,
      "outputs": [
        {
          "output_type": "stream",
          "name": "stdout",
          "text": [
            "Prediction: There is no oil present.\n"
          ]
        }
      ]
    },
    {
      "cell_type": "code",
      "source": [
        "# Integrating SQL for sample business queries\n",
        "\n",
        "import pandas as pd\n",
        "\n",
        "# Using the initial df DataFrame (100 reservoirs)\n",
        "\n",
        "# Calculate production_capacity\n",
        "# Assuming specific gravity (SG) = 0.85\n",
        "df['production_capacity'] = df['depth'] * df['porosity'] * df['permeability'] * 0.85 / 0.159\n",
        "\n",
        "# Find the best prospect (highest production capacity) from the DataFrame df\n",
        "best_prospect = df.loc[df['production_capacity'].idxmax()]\n",
        "\n",
        "# Formatting data with comma separators to make it more presentable\n",
        "def format_with_commas(number):\n",
        "    return \"{:,}\".format(number)\n",
        "\n",
        "# Reserves Estimation\n",
        "total_reservoirs = len(df)\n",
        "producing_reservoirs = df['oil_present'].sum()\n",
        "average_depth = df['depth'].mean()\n",
        "average_porosity = df['porosity'].mean() * 100  # Convert porosity to percentage\n",
        "average_permeability = df['permeability'].mean()\n",
        "\n",
        "# Format and display reserves estimation\n",
        "print(\"Reserves Estimation:\")\n",
        "print(f\"Total reservoirs: {format_with_commas(total_reservoirs)}\")\n",
        "print(f\"Producing reservoirs: {format_with_commas(producing_reservoirs)}\")\n",
        "print(f\"Average depth: {format_with_commas(int(average_depth))} meters\")\n",
        "print(f\"Average porosity: {average_porosity:.2f}%\")\n",
        "print(f\"Average permeability: {format_with_commas(int(average_permeability))} millidarcies\\n\")\n",
        "\n",
        "# Query to find the best reservoir prospect, and summary performance of the entire dataset\n",
        "reservoir_id = df.index[df['production_capacity'] == best_prospect['production_capacity']].tolist()[0] + 1\n",
        "depth = format_with_commas(int(best_prospect['depth']))\n",
        "production_capacity = format_with_commas(int(best_prospect['production_capacity']))\n",
        "print(f\"The best prospect is reservoir {reservoir_id} at depth {depth} meters, \"\n",
        "      f\"with a production capacity of: {production_capacity} barrels\")\n"
      ],
      "metadata": {
        "colab": {
          "base_uri": "https://localhost:8080/"
        },
        "id": "QpYQov3NJZWX",
        "outputId": "c314c3f4-ccb1-4d88-b5f3-9ca179ef1937"
      },
      "execution_count": null,
      "outputs": [
        {
          "output_type": "stream",
          "name": "stdout",
          "text": [
            "Reserves Estimation:\n",
            "Total reservoirs: 100\n",
            "Producing reservoirs: 48\n",
            "Average depth: 2,515 meters\n",
            "Average porosity: 19.05%\n",
            "Average permeability: 557 millidarcies\n",
            "\n",
            "The best prospect is reservoir 76 at depth 2,934 meters, with a production capacity of: 3,856,815 barrels\n"
          ]
        }
      ]
    }
  ]
}